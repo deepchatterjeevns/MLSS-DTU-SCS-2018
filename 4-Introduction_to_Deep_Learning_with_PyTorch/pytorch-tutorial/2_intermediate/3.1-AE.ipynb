{
 "cells": [
  {
   "cell_type": "markdown",
   "metadata": {},
   "source": [
    "# Credits\n",
    "\n",
    "See main readme for credits."
   ]
  },
  {
   "cell_type": "markdown",
   "metadata": {},
   "source": [
    "# Dependancies and supporting functions\n",
    "Loading dependancies and supporting functions by running the code block below."
   ]
  },
  {
   "cell_type": "code",
   "execution_count": null,
   "metadata": {},
   "outputs": [],
   "source": [
    "import matplotlib\n",
    "import matplotlib.pyplot as plt\n",
    "from IPython.display import Image, display, clear_output\n",
    "import numpy as np\n",
    "%matplotlib nbagg\n",
    "%matplotlib inline"
   ]
  },
  {
   "cell_type": "code",
   "execution_count": null,
   "metadata": {},
   "outputs": [],
   "source": [
    "def get_variable(x):\n",
    "    \"\"\" Converts tensors to cuda, if available. \"\"\"\n",
    "    if torch.cuda.is_available():\n",
    "        return x.cuda()\n",
    "    return x\n",
    "\n",
    "def get_numpy(x):\n",
    "    \"\"\" Get numpy array for both cuda and not. \"\"\"\n",
    "    if torch.cuda.is_available():\n",
    "        return x.cpu().data.numpy()\n",
    "    return x.data.numpy()"
   ]
  },
  {
   "cell_type": "markdown",
   "metadata": {},
   "source": [
    "# Auto-encoders 101\n",
    "In this notebook you will implement a simple auto-encoder (AE). We assume that you are already familiar with the basics of neural networks. We'll start by defining an AE similar to the one used for the finetuning step by [Geoffrey Hinton and Ruslan Salakhutdinov](https://www.cs.toronto.edu/~hinton/science.pdf). We'll experiment with the AE setup and try to run it on the MNIST dataset. There has been a wide variety of research into the field of auto-encoders and the technique that you're about to learn is very simple compared to recent advances (e.g. [the Ladder network](https://arxiv.org/abs/1507.02672) and [Variational AEs](https://arxiv.org/abs/1312.6114)). However, the basic idea stays the same.\n",
    "\n",
    "AEs are used within unsupervised learning, in which you do not have a target $y$. Instead it *encodes* an input $x$ into a latent state $z$ and decodes $z$ into a reconstruction $\\hat{x}$. This way the parameters of the network can be optimized w.r.t. the difference between $x$ and $\\hat{x}$. Depending on the input distribution, the difference can be measured in various ways, e.g. mean squared error (MSE). In many applications the auto-encoder will find an internal state of each data point corresponding to a feature. So if we are to model the MNIST dataset, one could expect that the internal state would correspond to a digit-class and/or the shape.\n",
    "\n",
    "*The exercises are found at the bottom of the notebook*"
   ]
  },
  {
   "cell_type": "markdown",
   "metadata": {},
   "source": [
    "## MNIST\n",
    "First let us load the MNIST dataset and plot a few examples. We only load a limited amount of classes to speed up training."
   ]
  },
  {
   "cell_type": "code",
   "execution_count": null,
   "metadata": {},
   "outputs": [],
   "source": [
    "!if [ ! -f mnist.npz ]; then wget -N https://www.dropbox.com/s/qxywaq7nx19z72p/mnist.npz; else echo \"mnist.npz already downloaded\"; fi"
   ]
  },
  {
   "cell_type": "code",
   "execution_count": null,
   "metadata": {},
   "outputs": [],
   "source": [
    "from sklearn.utils import shuffle\n",
    "\n",
    "# To speed up training we'll only work on a subset of the data containing only the numbers 0, 1.\n",
    "data = np.load('mnist.npz')\n",
    "num_classes = 2\n",
    "idxs_train = []\n",
    "idxs_valid = []\n",
    "idxs_test = []\n",
    "for i in range(num_classes):\n",
    "    idxs_train += np.where(data['y_train'] == i)[0].tolist()\n",
    "    idxs_valid += np.where(data['y_valid'] == i)[0].tolist()\n",
    "    idxs_test += np.where(data['y_test'] == i)[0].tolist()\n",
    "\n",
    "x_train = data['X_train'][idxs_train].astype('float32')\n",
    "# Since this is unsupervised, the targets are only used for validation.\n",
    "targets_train = data['y_train'][idxs_train].astype('int32')\n",
    "x_train, targets_train = shuffle(x_train, targets_train, random_state=1234)\n",
    "\n",
    "\n",
    "x_valid = data['X_valid'][idxs_valid].astype('float32')\n",
    "targets_valid = data['y_valid'][idxs_valid].astype('int32')\n",
    "\n",
    "x_test = data['X_test'][idxs_test].astype('float32')\n",
    "targets_test = data['y_test'][idxs_test].astype('int32')\n",
    "\n",
    "print(\"training set dim(%i, %i).\" % x_train.shape)\n",
    "print(\"validation set dim(%i, %i).\" % x_valid.shape)\n",
    "print(\"test set dim(%i, %i).\" % x_test.shape)"
   ]
  },
  {
   "cell_type": "code",
   "execution_count": null,
   "metadata": {},
   "outputs": [],
   "source": [
    "#plot a few MNIST examples\n",
    "idx = 0\n",
    "canvas = np.zeros((28*10, 10*28))\n",
    "for i in range(10):\n",
    "    for j in range(10):\n",
    "        canvas[i*28:(i+1)*28, j*28:(j+1)*28] = x_train[idx].reshape((28, 28))\n",
    "        idx += 1\n",
    "plt.figure(figsize=(7, 7))\n",
    "plt.axis('off')\n",
    "plt.imshow(canvas, cmap='gray')\n",
    "plt.title('MNIST handwritten digits')"
   ]
  },
  {
   "cell_type": "markdown",
   "metadata": {},
   "source": [
    "### Building the model\n",
    "When defining the model the latent layer $z$ must act as a bottleneck of information. We initialize the AE with 1 hidden layer in the encoder and decoder using ReLU units as nonlinearities. The latent layer has a dimensionality of 2 in order to make it easy to visualise. Since $x$ are pixel intensities that are normalized between 0 and 1, we use the sigmoid nonlinearity to model the reconstruction."
   ]
  },
  {
   "cell_type": "code",
   "execution_count": null,
   "metadata": {},
   "outputs": [],
   "source": [
    "import torch\n",
    "from torch.autograd import Variable\n",
    "import torch.nn as nn\n",
    "import torch.optim as optim\n",
    "\n",
    "from torch.nn import Linear\n",
    "from torch.nn.functional import relu, sigmoid"
   ]
  },
  {
   "cell_type": "code",
   "execution_count": null,
   "metadata": {},
   "outputs": [],
   "source": [
    "# define size variables\n",
    "num_features = x_train.shape[1]\n",
    "l_enc_features = 128\n",
    "l_z_features = 2\n",
    "l_dec_features = 128\n",
    "\n",
    "class Net(nn.Module):\n",
    "\n",
    "    def __init__(self):\n",
    "        super(Net, self).__init__()\n",
    "        # encoder layer\n",
    "        self.l_enc = Linear(in_features=num_features,\n",
    "                            out_features=l_enc_features)\n",
    "        # bottleneck layer\n",
    "        self.l_z = Linear(in_features=l_enc_features,\n",
    "                          out_features=l_z_features)\n",
    "        # decoder layer\n",
    "        self.l_dec = Linear(in_features=l_z_features,\n",
    "                            out_features=l_dec_features)\n",
    "        # output layer, projecting back to image size\n",
    "        self.l_out = Linear(in_features=l_dec_features,\n",
    "                            out_features=num_features)\n",
    "\n",
    "    def forward(self, x): \n",
    "        outputs = {}\n",
    "        x = relu(self.l_enc(x))\n",
    "        # we don't apply an activation to the bottleneck layer; self.l_z\n",
    "        x = self.l_z(x)\n",
    "        outputs['l_z'] = x\n",
    "        x = relu(self.l_dec(x))\n",
    "        # apply sigmoid to output to get pixel intensities between 0 and 1\n",
    "        x = sigmoid(self.l_out(x))\n",
    "        outputs['l_out'] = x\n",
    "        return outputs\n",
    "\n",
    "\n",
    "net = Net()\n",
    "if torch.cuda.is_available():\n",
    "    net.cuda()\n",
    "print(net)"
   ]
  },
  {
   "cell_type": "markdown",
   "metadata": {},
   "source": [
    "Following we define the PyTorch functions for training and evaluation."
   ]
  },
  {
   "cell_type": "code",
   "execution_count": null,
   "metadata": {},
   "outputs": [],
   "source": [
    "def mse_pixel_loss(y, t):\n",
    "    \"\"\" Mean Squared Error (MSE)\n",
    "    \n",
    "    Parameters\n",
    "    ----------\n",
    "    y: torch.autograd.Variable\n",
    "    t: torch.autograd.Variable\n",
    "    \n",
    "    Returns\n",
    "    -------\n",
    "    torch.autograd.Variable\n",
    "    \"\"\"\n",
    "    loss_per_pixel = torch.pow(t.sub(y), exponent=2)\n",
    "    return torch.mean(loss_per_pixel)\n",
    "\n",
    "# if you want L2 regularization, then add weight_decay to SGD\n",
    "optimizer = optim.SGD(net.parameters(), lr=0.25)\n",
    "\n",
    "loss_function = mse_pixel_loss"
   ]
  },
  {
   "cell_type": "markdown",
   "metadata": {},
   "source": [
    "This function can be called with `torch.Tensor`'s and will return a float, but we will use `Variable` as inputs to compute and use gradients."
   ]
  },
  {
   "cell_type": "code",
   "execution_count": null,
   "metadata": {},
   "outputs": [],
   "source": [
    "# create two random tensors of size height 1, and width 3\n",
    "_y, _t = torch.randn(1, 3), torch.randn(1, 3)\n",
    "\n",
    "# apply mean squared error by comparing the two tensors\n",
    "x = mse_pixel_loss(_y, _t)\n",
    "# returns a float\n",
    "print(type(x))\n",
    "print(x)"
   ]
  },
  {
   "cell_type": "code",
   "execution_count": null,
   "metadata": {},
   "outputs": [],
   "source": [
    "# use same two tensors, but wrap them in a Variable\n",
    "# notice, that we put requires_grad=True on the prediction (__y),\n",
    "# i.e. when .backward() is applied, the gradients are computed and stored on __y\n",
    "__y = Variable(_y, requires_grad=True)\n",
    "# no need to store grad for target Variable\n",
    "__t = Variable(_t)\n",
    "\n",
    "# apply mean squared error by comparing the two Variables\n",
    "x = mse_pixel_loss(__y, __t)\n",
    "# returns Variable containing torch.FloatTensor of size 1\n",
    "print(type(x))\n",
    "print(x)\n",
    "\n",
    "# the Variable should not have any grad before applying .backward()\n",
    "print(__y.grad)\n",
    "x.backward()\n",
    "print(__y.grad)"
   ]
  },
  {
   "cell_type": "code",
   "execution_count": null,
   "metadata": {},
   "outputs": [],
   "source": [
    "# test the forward pass\n",
    "_x_test = np.zeros(shape=(32, num_features), dtype='float32')\n",
    "# expect output size of [32, num_features]\n",
    "print(num_features)\n",
    "out_dict = net(get_variable(Variable(torch.from_numpy(_x_test))))\n",
    "print(out_dict['l_out'].size())"
   ]
  },
  {
   "cell_type": "markdown",
   "metadata": {},
   "source": [
    "In the training loop we sample each batch and evaluate the error, latent space, and reconstructions on every epoch.\n",
    "\n",
    "**NOTE** this will take a while on CPU."
   ]
  },
  {
   "cell_type": "code",
   "execution_count": null,
   "metadata": {},
   "outputs": [],
   "source": [
    "batch_size = 100\n",
    "num_epochs = 100\n",
    "num_samples_train = x_train.shape[0]\n",
    "num_batches_train = num_samples_train // batch_size\n",
    "num_samples_valid = x_valid.shape[0]\n",
    "num_batches_valid = num_samples_valid // batch_size\n",
    "updates = []\n",
    "tmp_img = \"tmp_ae_out.png\"\n",
    "\n",
    "train_loss = []\n",
    "valid_loss = []\n",
    "cur_loss = 0\n",
    "plt.figure(figsize=(12, 24))\n",
    "\n",
    "for epoch in range(num_epochs):\n",
    "    cur_loss = []\n",
    "    net.train()\n",
    "    for i in range(num_batches_train):\n",
    "        idxs = np.random.choice(range(x_train.shape[0]), size=(batch_size), replace=False)    \n",
    "        x_batch = x_train[idxs]\n",
    "        _x = get_variable(Variable(torch.from_numpy(x_batch)))\n",
    "        out_dict = net(_x)\n",
    "        # note, target is the original tensor, as we're working with auto-encoders\n",
    "        loss = loss_function(out_dict['l_out'], _x)\n",
    "        \n",
    "        optimizer.zero_grad()\n",
    "        loss.backward()\n",
    "        optimizer.step()\n",
    "        \n",
    "        cur_loss.append(get_numpy(loss))\n",
    "    train_loss.append(np.mean(cur_loss))\n",
    "    updates.append(batch_size * num_batches_train * (epoch + 1))\n",
    "\n",
    "    # evaluate\n",
    "    net.eval()\n",
    "    _target = get_variable(Variable(torch.from_numpy(x_valid)))\n",
    "    out_dict = net(_target)\n",
    "    loss = loss_function(out_dict['l_out'], _target)\n",
    "    \n",
    "    # used later\n",
    "    eval_out = get_numpy(out_dict['l_out'])\n",
    "    eval_z = get_numpy(out_dict['l_z'])\n",
    "    \n",
    "    valid_loss.append(get_numpy(loss))\n",
    "    \n",
    "    if epoch == 0:\n",
    "        continue\n",
    "\n",
    "    # Plotting\n",
    "    plt.subplot(num_classes + 1, 2, 1)\n",
    "    plt.title('Error')\n",
    "    plt.legend(['Train Error', 'Valid Error'])\n",
    "    plt.xlabel('Updates'), plt.ylabel('Error')\n",
    "    plt.plot(updates, train_loss, color=\"black\")\n",
    "    plt.plot(updates, valid_loss, color=\"grey\")\n",
    "    plt.ticklabel_format(style='sci', axis='x', scilimits=(0,0))\n",
    "    plt.grid('on')\n",
    "\n",
    "    plt.subplot(num_classes+1,2,2)\n",
    "    plt.cla()\n",
    "    plt.title('Latent space')\n",
    "    plt.xlabel('z0'), plt.ylabel('z1')\n",
    "    color = iter(plt.get_cmap('brg')(np.linspace(0, 1.0, num_classes)))\n",
    "    for i in range(num_classes):\n",
    "        clr = next(color)\n",
    "        plt.scatter(eval_z[targets_valid==i, 0], eval_z[targets_valid==i, 1], c=clr, s=5., lw=0, marker='o', )\n",
    "    plt.grid('on')\n",
    "\n",
    "    c=0\n",
    "    for k in range(3, 3 + num_classes * 2, 2):\n",
    "        plt.subplot(num_classes + 1, 2, k)\n",
    "        plt.cla()\n",
    "        plt.title('Inputs for %i' % c)\n",
    "        plt.axis('off')\n",
    "        idx = 0\n",
    "        canvas = np.zeros((28*10, 10*28))\n",
    "        for i in range(10):\n",
    "            for j in range(10):\n",
    "                canvas[i*28:(i+1)*28, j*28:(j+1)*28] = x_valid[targets_valid==c][idx].reshape((28, 28))\n",
    "                idx += 1\n",
    "        plt.imshow(canvas, cmap='gray')\n",
    "\n",
    "        plt.subplot(num_classes+1,2,k+1)\n",
    "        plt.cla()\n",
    "        plt.title('Reconstructions for %i' % c)\n",
    "        plt.axis('off')\n",
    "        idx = 0\n",
    "        canvas = np.zeros((28*10, 10*28))\n",
    "        for i in range(10):\n",
    "            for j in range(10):\n",
    "                canvas[i*28:(i+1)*28, j*28:(j+1)*28] = eval_out[targets_valid==c][idx].reshape((28, 28))\n",
    "                idx += 1\n",
    "        plt.imshow(canvas, cmap='gray')\n",
    "        c+=1\n",
    "\n",
    "    plt.savefig(tmp_img)\n",
    "    display(Image(filename=tmp_img))\n",
    "    clear_output(wait=True)\n",
    "    break\n",
    "import os\n",
    "os.remove(tmp_img)"
   ]
  },
  {
   "cell_type": "markdown",
   "metadata": {},
   "source": [
    "# Assignments"
   ]
  },
  {
   "cell_type": "markdown",
   "metadata": {
    "collapsed": true
   },
   "source": [
    "## Assignment 1 - Analyzing the AE\n",
    "1. The above implementation of an AE is very simple.\n",
    "    - Experiment with the number of layers and non-linearities in order to improve the reconstructions\n",
    "    - What happens with the network when we change the non-linearities in the latent layer (e.g. sigmoid)?\n",
    "    - Try to increase the number of digit classes in the training set and analyze the results\n",
    "    - Test different optimization algorithms and decide whether you should use regularizers\n",
    "       \n",
    "2. Currently we optimize w.r.t. mean squared error. \n",
    "    - Find another error function that could fit this problem better\n",
    "    - Evaluate whether the error function is a better choice and explain your findings\n",
    "\n",
    "3. Complexity of the bottleneck.\n",
    "    - Increase the number of units in the latent layer and train\n",
    "    - Visualize by using [PCA](http://scikit-learn.org/stable/modules/generated/sklearn.decomposition.PCA.html) or [t-SNE](http://scikit-learn.org/stable/modules/generated/sklearn.manifold.TSNE.html)"
   ]
  },
  {
   "cell_type": "markdown",
   "metadata": {
    "collapsed": true
   },
   "source": [
    "## Assignment 2 - Adding classification\n",
    "\n",
    "The above training has been performed unsupervised. Now let us assume that we only have a fraction of labeled data points from each class (implemented below). As we know, semi-supervised learning can be utilized by combining unsupervised and supervised learning. Now you must analyze whether a trained AE from the above exercise can aid a classifier.\n",
    "\n",
    "1. Build a simple classifier (like the ones from week1) where you:\n",
    "    - Train on the labeled dataset and evaluate the results\n",
    "2. Build a second classifier and train on the latent output $z$ of the AE.\n",
    "3. Build a third classifier and train on the reconstructions of the AE.\n",
    "4. Evaluate the classifiers against each other and implement a model that improves the classification by combining the input, latent output, and reconstruction."
   ]
  },
  {
   "cell_type": "code",
   "execution_count": null,
   "metadata": {},
   "outputs": [],
   "source": [
    "# Generate a subset of labeled data points\n",
    "\n",
    "num_labeled = 10 # You decide on the size of the fraction...\n",
    "\n",
    "def onehot(t, num_classes):\n",
    "    out = np.zeros((t.shape[0], num_classes))\n",
    "    for row, col in enumerate(t):\n",
    "        out[row, col] = 1\n",
    "    return out\n",
    "\n",
    "idxs_train_l = []\n",
    "for i in range(num_classes):\n",
    "    idxs = np.where(targets_train == i)[0]\n",
    "    idxs_train_l += np.random.choice(idxs, size=num_labeled).tolist()\n",
    "\n",
    "x_train_l = x_train[idxs_train_l]\n",
    "targets_train_l = targets_train[idxs_train_l]\n",
    "print(\"labeled training set dim(%i, %i).\" % x_train_l.shape)\n",
    "\n",
    "plt.figure(figsize=(12, 7))\n",
    "for i in range(num_classes*num_labeled):\n",
    "    im = x_train_l[i].reshape((28, 28))\n",
    "    plt.subplot(1, num_classes*num_labeled, i + 1)\n",
    "    plt.imshow(im, cmap='gray')\n",
    "    plt.axis('off')"
   ]
  }
 ],
 "metadata": {
  "kernelspec": {
   "display_name": "Python 3",
   "language": "python",
   "name": "python3"
  },
  "language_info": {
   "codemirror_mode": {
    "name": "ipython",
    "version": 3
   },
   "file_extension": ".py",
   "mimetype": "text/x-python",
   "name": "python",
   "nbconvert_exporter": "python",
   "pygments_lexer": "ipython3",
   "version": "3.6.4"
  }
 },
 "nbformat": 4,
 "nbformat_minor": 1
}
