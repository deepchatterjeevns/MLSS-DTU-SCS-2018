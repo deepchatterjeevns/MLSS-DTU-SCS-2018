{
  "nbformat": 4,
  "nbformat_minor": 0,
  "metadata": {
    "colab": {
      "name": "MNIST_CNN.ipynb",
      "version": "0.3.2",
      "provenance": [],
      "collapsed_sections": []
    },
    "kernelspec": {
      "name": "python3",
      "display_name": "Python 3"
    },
    "accelerator": "GPU"
  },
  "cells": [
    {
      "metadata": {
        "id": "7GlCdKi2S6di",
        "colab_type": "code",
        "colab": {
          "base_uri": "https://localhost:8080/",
          "height": 275
        },
        "outputId": "f5a6a090-0513-4bc2-fc65-720340759999"
      },
      "cell_type": "code",
      "source": [
        "!pip install torch torchvision"
      ],
      "execution_count": 2,
      "outputs": [
        {
          "output_type": "stream",
          "text": [
            "Requirement already satisfied: torch in /usr/local/lib/python3.6/dist-packages (0.4.1)\n",
            "Collecting torchvision\n",
            "\u001b[?25l  Downloading https://files.pythonhosted.org/packages/ca/0d/f00b2885711e08bd71242ebe7b96561e6f6d01fdb4b9dcf4d37e2e13c5e1/torchvision-0.2.1-py2.py3-none-any.whl (54kB)\n",
            "\u001b[K    100% |████████████████████████████████| 61kB 2.5MB/s \n",
            "\u001b[?25hRequirement already satisfied: numpy in /usr/local/lib/python3.6/dist-packages (from torchvision) (1.14.5)\n",
            "Requirement already satisfied: six in /usr/local/lib/python3.6/dist-packages (from torchvision) (1.11.0)\n",
            "Collecting pillow>=4.1.1 (from torchvision)\n",
            "\u001b[?25l  Downloading https://files.pythonhosted.org/packages/d1/24/f53ff6b61b3d728b90934bddb4f03f8ab584a7f49299bf3bde56e2952612/Pillow-5.2.0-cp36-cp36m-manylinux1_x86_64.whl (2.0MB)\n",
            "\u001b[K    100% |████████████████████████████████| 2.0MB 4.3MB/s \n",
            "\u001b[?25hInstalling collected packages: pillow, torchvision\n",
            "  Found existing installation: Pillow 4.0.0\n",
            "    Uninstalling Pillow-4.0.0:\n",
            "      Successfully uninstalled Pillow-4.0.0\n",
            "Successfully installed pillow-5.2.0 torchvision-0.2.1\n"
          ],
          "name": "stdout"
        }
      ]
    },
    {
      "metadata": {
        "id": "eZrt8pX8TLC_",
        "colab_type": "code",
        "colab": {}
      },
      "cell_type": "code",
      "source": [
        "import torch\n",
        "import torch.nn as nn\n",
        "import torch.nn.functional as F\n",
        "import torchvision.datasets\n",
        "import torchvision.transforms as T\n",
        "import matplotlib.pylab as plt"
      ],
      "execution_count": 0,
      "outputs": []
    },
    {
      "metadata": {
        "id": "7VEk5D0eTzF_",
        "colab_type": "code",
        "colab": {}
      },
      "cell_type": "code",
      "source": [
        "train_dataset = torchvision.datasets.MNIST('data', train=True, download=True,\n",
        "                                           transform=T.ToTensor())\n",
        "valid_dataset = torchvision.datasets.MNIST('data', train=False, download=True,\n",
        "                                           transform=T.ToTensor())"
      ],
      "execution_count": 0,
      "outputs": []
    },
    {
      "metadata": {
        "id": "j44Qc34BUOYJ",
        "colab_type": "code",
        "colab": {
          "base_uri": "https://localhost:8080/",
          "height": 364
        },
        "outputId": "6b73e7cc-2733-4d46-9721-789e8fff1148"
      },
      "cell_type": "code",
      "source": [
        "img, target = train_dataset[0]\n",
        "plt.imshow(img[0])"
      ],
      "execution_count": 8,
      "outputs": [
        {
          "output_type": "execute_result",
          "data": {
            "text/plain": [
              "<matplotlib.image.AxesImage at 0x7ff01201b320>"
            ]
          },
          "metadata": {
            "tags": []
          },
          "execution_count": 8
        },
        {
          "output_type": "display_data",
          "data": {
            "image/png": "[encoded data removed]",
            "text/plain": [
              "<matplotlib.figure.Figure at 0x7ff014c594e0>"
            ]
          },
          "metadata": {
            "tags": []
          }
        }
      ]
    },
    {
      "metadata": {
        "id": "Co4HKpHXeS1m",
        "colab_type": "code",
        "colab": {}
      },
      "cell_type": "code",
      "source": [
        "class args:\n",
        "  batch_size = 128\n",
        "\n",
        "device = torch.device('cuda')"
      ],
      "execution_count": 0,
      "outputs": []
    },
    {
      "metadata": {
        "id": "n1aw3np-cHHt",
        "colab_type": "code",
        "colab": {}
      },
      "cell_type": "code",
      "source": [
        "class LeNet5(nn.Module):\n",
        "  # Based on http://yann.lecun.com/exdb/publis/pdf/lecun-98.pdf\n",
        "  def __init__(self):\n",
        "    super().__init__()\n",
        "    self.conv1 = nn.Conv2d(1, 6, kernel_size=5, padding=2)\n",
        "    self.conv2 = nn.Conv2d(6, 16, kernel_size=5)\n",
        "    self.fc1 = nn.Linear(400, 120)\n",
        "    self.fc2 = nn.Linear(120, 84)\n",
        "    self.fc3 = nn.Linear(84, 10)\n",
        "    \n",
        "  def forward(self, x):\n",
        "    x = torch.tanh(F.max_pool2d(self.conv1(x), kernel_size=2))\n",
        "    x = torch.tanh(F.max_pool2d(self.conv2(x), kernel_size=2))\n",
        "    x = x.reshape(-1, 16 * 5 * 5)\n",
        "    x = torch.tanh(self.fc1(x))\n",
        "    x = torch.tanh(self.fc2(x))\n",
        "    x = torch.tanh(self.fc3(x))\n",
        "    return F.log_softmax(x, dim=1)"
      ],
      "execution_count": 0,
      "outputs": []
    },
    {
      "metadata": {
        "id": "GP7aqhVyUl_m",
        "colab_type": "code",
        "colab": {}
      },
      "cell_type": "code",
      "source": [
        "train_loader = torch.utils.data.DataLoader(train_dataset,\n",
        "                                           batch_size=args.batch_size,\n",
        "                                           shuffle=False)\n",
        "\n",
        "model = LeNet5().to(device)\n",
        "optimizer = torch.optim.Adam(model.parameters())\n",
        "for epoch in range(10):\n",
        "  model.train()\n",
        "  for i, (batch_input, batch_target) in enumerate(train_loader):\n",
        "    output = model(batch_input.to(device))\n",
        "    loss = F.nll_loss(output, batch_target.to(device))\n",
        "    optimizer.zero_grad()\n",
        "    loss.backward()\n",
        "    optimizer.step()\n",
        "    if i % 200 == 0:\n",
        "      print(epoch, loss.item())"
      ],
      "execution_count": 0,
      "outputs": []
    },
    {
      "metadata": {
        "id": "JUZcglrsVdak",
        "colab_type": "code",
        "colab": {
          "base_uri": "https://localhost:8080/",
          "height": 364
        },
        "outputId": "b8eb6125-a1da-4602-b5dd-ff8fdd32f287"
      },
      "cell_type": "code",
      "source": [
        "import sklearn.metrics \n",
        "valid_loader = torch.utils.data.DataLoader(valid_dataset,\n",
        "                                           batch_size=args.batch_size,\n",
        "                                           shuffle=False)\n",
        "model.eval()\n",
        "num_matches = 0\n",
        "true_labels, pred_labels = [], []\n",
        "with torch.no_grad():\n",
        "  for batch_input, batch_target in valid_loader:\n",
        "    output = model(batch_input)\n",
        "    pred = output.argmax(1)\n",
        "    num_matches += (pred == batch_target).sum().item()\n",
        "    true_labels.append(batch_target)\n",
        "    pred_labels.append(pred)\n",
        "    \n",
        "true_labels = torch.cat(true_labels, dim=0)\n",
        "pred_labels = torch.cat(pred_labels, dim=0)\n",
        "conf_matrix = sklearn.metrics.confusion_matrix(true_labels, pred_labels)\n",
        "plt.imshow(conf_matrix)\n",
        "\n",
        "print('Accuracy: ', num_matches / len(valid_dataset) * 100)"
      ],
      "execution_count": 16,
      "outputs": [
        {
          "output_type": "stream",
          "text": [
            "Accuracy:  98.53\n"
          ],
          "name": "stdout"
        },
        {
          "output_type": "display_data",
          "data": {
            "image/png": "[encoded data removed]",
            "text/plain": [
              "<matplotlib.figure.Figure at 0x7f1c6ab195f8>"
            ]
          },
          "metadata": {
            "tags": []
          }
        }
      ]
    }
  ]
}